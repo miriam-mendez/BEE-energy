{
 "cells": [
  {
   "cell_type": "code",
   "execution_count": 1,
   "metadata": {},
   "outputs": [],
   "source": [
    "\n",
    "import datetime\n",
    "from dateutil.relativedelta import relativedelta\n",
    "import json\n",
    "import pandas as pd\n",
    "import psycopg2\n",
    "import plotly.express as px"
   ]
  },
  {
   "cell_type": "code",
   "execution_count": 35,
   "metadata": {},
   "outputs": [],
   "source": [
    "conn = psycopg2.connect(\n",
    "    dbname='postgres',\n",
    "    user='postgres',\n",
    "    password='',\n",
    "    host='',  # e.g., 'localhost'\n",
    "    port='5432'   # default is 5432\n",
    ")\n",
    "\n",
    "def fetch_time_query(time):\n",
    "    if time == 'daily':\n",
    "        date = '2024-10-10'\n",
    "        query = f\"\"\"\n",
    "            SELECT * \n",
    "            FROM era5\n",
    "            WHERE DATE(time) = '{date.strftime('%Y-%m-%d')};'\n",
    "        \"\"\"\n",
    "    elif time == 'monthly':\n",
    "        year, month = 2024,10\n",
    "        start_date = datetime.date(year,month,1)\n",
    "        end_date = start_date + relativedelta(months=1)\n",
    "        query = f\"\"\"\n",
    "            SELECT *\n",
    "\t\t\tFROM era5_daily e, residential_consumption_aggregated r\n",
    "\t\t\tWHERE e.postal_code = r.postalcode and r.\"date\" = e.\"date\" and e.\"date\"  >= '{start_date}' AND e.\"date\"  < '{end_date}';\n",
    "        \"\"\"\n",
    "    elif time == 'annual':\n",
    "        year= 2023\n",
    "        start_date = datetime.date(year,1,1)\n",
    "        end_date = datetime.date(year+1,1,1)\n",
    "        query = f\"\"\"\n",
    "            SELECT *\n",
    "            FROM era5_monthly e, residential_consumption_monthly r\n",
    "            WHERE e.postal_code = r.postalcode and r.month = e.month and r.year=e.year and e.year='{year}';\n",
    "        \"\"\"\n",
    "    return  query\n",
    "\n",
    "province_mapping = {\n",
    "    '0':'Barcelona',\n",
    "    '1':'Girona',\n",
    "    '2':'Lleida',\n",
    "    '4':'Tarragona'\n",
    "}"
   ]
  },
  {
   "cell_type": "code",
   "execution_count": 36,
   "metadata": {},
   "outputs": [
    {
     "name": "stderr",
     "output_type": "stream",
     "text": [
      "/tmp/ipykernel_525145/411972724.py:2: UserWarning:\n",
      "\n",
      "pandas only supports SQLAlchemy connectable (engine/connection) or database string URI or sqlite3 DBAPI2 connection. Other DBAPI2 objects are not tested. Please consider using SQLAlchemy.\n",
      "\n"
     ]
    },
    {
     "data": {
      "text/html": [
       "<div>\n",
       "<style scoped>\n",
       "    .dataframe tbody tr th:only-of-type {\n",
       "        vertical-align: middle;\n",
       "    }\n",
       "\n",
       "    .dataframe tbody tr th {\n",
       "        vertical-align: top;\n",
       "    }\n",
       "\n",
       "    .dataframe thead th {\n",
       "        text-align: right;\n",
       "    }\n",
       "</style>\n",
       "<table border=\"1\" class=\"dataframe\">\n",
       "  <thead>\n",
       "    <tr style=\"text-align: right;\">\n",
       "      <th></th>\n",
       "      <th>year</th>\n",
       "      <th>month</th>\n",
       "      <th>postal_code</th>\n",
       "      <th>airtemperature</th>\n",
       "      <th>cdd</th>\n",
       "      <th>hdd</th>\n",
       "      <th>relativehumidity</th>\n",
       "      <th>windspeed</th>\n",
       "      <th>winddirection</th>\n",
       "      <th>ghi</th>\n",
       "      <th>dni</th>\n",
       "      <th>sunelevation</th>\n",
       "      <th>year</th>\n",
       "      <th>month</th>\n",
       "      <th>postalcode</th>\n",
       "      <th>consumption</th>\n",
       "      <th>contracts</th>\n",
       "    </tr>\n",
       "  </thead>\n",
       "  <tbody>\n",
       "    <tr>\n",
       "      <th>0</th>\n",
       "      <td>2023</td>\n",
       "      <td>01</td>\n",
       "      <td>08001</td>\n",
       "      <td>-1.698195</td>\n",
       "      <td>0.000000</td>\n",
       "      <td>14655.457415</td>\n",
       "      <td>77.674707</td>\n",
       "      <td>1.606126</td>\n",
       "      <td>297.133632</td>\n",
       "      <td>90.448124</td>\n",
       "      <td>146.269243</td>\n",
       "      <td>-16.393550</td>\n",
       "      <td>2023</td>\n",
       "      <td>01</td>\n",
       "      <td>08001</td>\n",
       "      <td>5056073.0</td>\n",
       "      <td>19506</td>\n",
       "    </tr>\n",
       "    <tr>\n",
       "      <th>1</th>\n",
       "      <td>2023</td>\n",
       "      <td>01</td>\n",
       "      <td>08002</td>\n",
       "      <td>-2.162166</td>\n",
       "      <td>0.000000</td>\n",
       "      <td>15000.651824</td>\n",
       "      <td>77.917161</td>\n",
       "      <td>1.563474</td>\n",
       "      <td>300.117511</td>\n",
       "      <td>91.643447</td>\n",
       "      <td>153.086939</td>\n",
       "      <td>-16.394065</td>\n",
       "      <td>2023</td>\n",
       "      <td>01</td>\n",
       "      <td>08002</td>\n",
       "      <td>3824433.0</td>\n",
       "      <td>11035</td>\n",
       "    </tr>\n",
       "    <tr>\n",
       "      <th>2</th>\n",
       "      <td>2023</td>\n",
       "      <td>01</td>\n",
       "      <td>08003</td>\n",
       "      <td>-2.941902</td>\n",
       "      <td>0.000000</td>\n",
       "      <td>15580.775353</td>\n",
       "      <td>78.249421</td>\n",
       "      <td>1.534985</td>\n",
       "      <td>304.241027</td>\n",
       "      <td>93.775452</td>\n",
       "      <td>164.977482</td>\n",
       "      <td>-16.394420</td>\n",
       "      <td>2023</td>\n",
       "      <td>01</td>\n",
       "      <td>08003</td>\n",
       "      <td>6023888.0</td>\n",
       "      <td>22238</td>\n",
       "    </tr>\n",
       "    <tr>\n",
       "      <th>3</th>\n",
       "      <td>2023</td>\n",
       "      <td>01</td>\n",
       "      <td>08004</td>\n",
       "      <td>-0.753737</td>\n",
       "      <td>0.000000</td>\n",
       "      <td>13952.780601</td>\n",
       "      <td>77.164957</td>\n",
       "      <td>1.780361</td>\n",
       "      <td>288.627383</td>\n",
       "      <td>88.567227</td>\n",
       "      <td>135.524378</td>\n",
       "      <td>-16.392039</td>\n",
       "      <td>2023</td>\n",
       "      <td>01</td>\n",
       "      <td>08004</td>\n",
       "      <td>5419367.0</td>\n",
       "      <td>23987</td>\n",
       "    </tr>\n",
       "    <tr>\n",
       "      <th>4</th>\n",
       "      <td>2023</td>\n",
       "      <td>01</td>\n",
       "      <td>08005</td>\n",
       "      <td>-4.062783</td>\n",
       "      <td>0.000000</td>\n",
       "      <td>16414.710627</td>\n",
       "      <td>78.950001</td>\n",
       "      <td>1.469888</td>\n",
       "      <td>119.806644</td>\n",
       "      <td>95.418575</td>\n",
       "      <td>174.685151</td>\n",
       "      <td>-16.396946</td>\n",
       "      <td>2023</td>\n",
       "      <td>01</td>\n",
       "      <td>08005</td>\n",
       "      <td>5550615.0</td>\n",
       "      <td>16961</td>\n",
       "    </tr>\n",
       "    <tr>\n",
       "      <th>...</th>\n",
       "      <td>...</td>\n",
       "      <td>...</td>\n",
       "      <td>...</td>\n",
       "      <td>...</td>\n",
       "      <td>...</td>\n",
       "      <td>...</td>\n",
       "      <td>...</td>\n",
       "      <td>...</td>\n",
       "      <td>...</td>\n",
       "      <td>...</td>\n",
       "      <td>...</td>\n",
       "      <td>...</td>\n",
       "      <td>...</td>\n",
       "      <td>...</td>\n",
       "      <td>...</td>\n",
       "      <td>...</td>\n",
       "      <td>...</td>\n",
       "    </tr>\n",
       "    <tr>\n",
       "      <th>12629</th>\n",
       "      <td>2023</td>\n",
       "      <td>12</td>\n",
       "      <td>43893</td>\n",
       "      <td>5.116208</td>\n",
       "      <td>0.000000</td>\n",
       "      <td>9585.541133</td>\n",
       "      <td>71.595939</td>\n",
       "      <td>2.241787</td>\n",
       "      <td>265.981439</td>\n",
       "      <td>72.852877</td>\n",
       "      <td>108.657683</td>\n",
       "      <td>-18.123120</td>\n",
       "      <td>2023</td>\n",
       "      <td>12</td>\n",
       "      <td>43893</td>\n",
       "      <td>1004247.0</td>\n",
       "      <td>5282</td>\n",
       "    </tr>\n",
       "    <tr>\n",
       "      <th>12630</th>\n",
       "      <td>2023</td>\n",
       "      <td>12</td>\n",
       "      <td>43894</td>\n",
       "      <td>7.175505</td>\n",
       "      <td>0.000000</td>\n",
       "      <td>8053.424422</td>\n",
       "      <td>74.874145</td>\n",
       "      <td>1.479304</td>\n",
       "      <td>259.940346</td>\n",
       "      <td>81.000723</td>\n",
       "      <td>136.496153</td>\n",
       "      <td>-18.040203</td>\n",
       "      <td>2023</td>\n",
       "      <td>12</td>\n",
       "      <td>43894</td>\n",
       "      <td>593153.0</td>\n",
       "      <td>1944</td>\n",
       "    </tr>\n",
       "    <tr>\n",
       "      <th>12631</th>\n",
       "      <td>2023</td>\n",
       "      <td>12</td>\n",
       "      <td>43895</td>\n",
       "      <td>8.240424</td>\n",
       "      <td>1.064332</td>\n",
       "      <td>7262.189234</td>\n",
       "      <td>75.814283</td>\n",
       "      <td>1.845381</td>\n",
       "      <td>236.948027</td>\n",
       "      <td>80.239980</td>\n",
       "      <td>136.134894</td>\n",
       "      <td>-18.047558</td>\n",
       "      <td>2023</td>\n",
       "      <td>12</td>\n",
       "      <td>43895</td>\n",
       "      <td>981782.0</td>\n",
       "      <td>4988</td>\n",
       "    </tr>\n",
       "    <tr>\n",
       "      <th>12632</th>\n",
       "      <td>2023</td>\n",
       "      <td>12</td>\n",
       "      <td>43896</td>\n",
       "      <td>5.792395</td>\n",
       "      <td>0.000000</td>\n",
       "      <td>9082.458485</td>\n",
       "      <td>73.686534</td>\n",
       "      <td>1.262525</td>\n",
       "      <td>286.433702</td>\n",
       "      <td>81.809070</td>\n",
       "      <td>138.707727</td>\n",
       "      <td>-18.033198</td>\n",
       "      <td>2023</td>\n",
       "      <td>12</td>\n",
       "      <td>43896</td>\n",
       "      <td>710090.0</td>\n",
       "      <td>2401</td>\n",
       "    </tr>\n",
       "    <tr>\n",
       "      <th>12633</th>\n",
       "      <td>2023</td>\n",
       "      <td>12</td>\n",
       "      <td>43897</td>\n",
       "      <td>4.269970</td>\n",
       "      <td>0.000000</td>\n",
       "      <td>10215.142461</td>\n",
       "      <td>72.110139</td>\n",
       "      <td>1.308855</td>\n",
       "      <td>269.811956</td>\n",
       "      <td>82.377815</td>\n",
       "      <td>142.634363</td>\n",
       "      <td>-18.035199</td>\n",
       "      <td>2023</td>\n",
       "      <td>12</td>\n",
       "      <td>43897</td>\n",
       "      <td>147070.0</td>\n",
       "      <td>535</td>\n",
       "    </tr>\n",
       "  </tbody>\n",
       "</table>\n",
       "<p>12634 rows × 17 columns</p>\n",
       "</div>"
      ],
      "text/plain": [
       "       year month postal_code  airtemperature       cdd           hdd  \\\n",
       "0      2023    01       08001       -1.698195  0.000000  14655.457415   \n",
       "1      2023    01       08002       -2.162166  0.000000  15000.651824   \n",
       "2      2023    01       08003       -2.941902  0.000000  15580.775353   \n",
       "3      2023    01       08004       -0.753737  0.000000  13952.780601   \n",
       "4      2023    01       08005       -4.062783  0.000000  16414.710627   \n",
       "...     ...   ...         ...             ...       ...           ...   \n",
       "12629  2023    12       43893        5.116208  0.000000   9585.541133   \n",
       "12630  2023    12       43894        7.175505  0.000000   8053.424422   \n",
       "12631  2023    12       43895        8.240424  1.064332   7262.189234   \n",
       "12632  2023    12       43896        5.792395  0.000000   9082.458485   \n",
       "12633  2023    12       43897        4.269970  0.000000  10215.142461   \n",
       "\n",
       "       relativehumidity  windspeed  winddirection        ghi         dni  \\\n",
       "0             77.674707   1.606126     297.133632  90.448124  146.269243   \n",
       "1             77.917161   1.563474     300.117511  91.643447  153.086939   \n",
       "2             78.249421   1.534985     304.241027  93.775452  164.977482   \n",
       "3             77.164957   1.780361     288.627383  88.567227  135.524378   \n",
       "4             78.950001   1.469888     119.806644  95.418575  174.685151   \n",
       "...                 ...        ...            ...        ...         ...   \n",
       "12629         71.595939   2.241787     265.981439  72.852877  108.657683   \n",
       "12630         74.874145   1.479304     259.940346  81.000723  136.496153   \n",
       "12631         75.814283   1.845381     236.948027  80.239980  136.134894   \n",
       "12632         73.686534   1.262525     286.433702  81.809070  138.707727   \n",
       "12633         72.110139   1.308855     269.811956  82.377815  142.634363   \n",
       "\n",
       "       sunelevation  year month postalcode  consumption  contracts  \n",
       "0        -16.393550  2023    01      08001    5056073.0      19506  \n",
       "1        -16.394065  2023    01      08002    3824433.0      11035  \n",
       "2        -16.394420  2023    01      08003    6023888.0      22238  \n",
       "3        -16.392039  2023    01      08004    5419367.0      23987  \n",
       "4        -16.396946  2023    01      08005    5550615.0      16961  \n",
       "...             ...   ...   ...        ...          ...        ...  \n",
       "12629    -18.123120  2023    12      43893    1004247.0       5282  \n",
       "12630    -18.040203  2023    12      43894     593153.0       1944  \n",
       "12631    -18.047558  2023    12      43895     981782.0       4988  \n",
       "12632    -18.033198  2023    12      43896     710090.0       2401  \n",
       "12633    -18.035199  2023    12      43897     147070.0        535  \n",
       "\n",
       "[12634 rows x 17 columns]"
      ]
     },
     "execution_count": 36,
     "metadata": {},
     "output_type": "execute_result"
    }
   ],
   "source": [
    "query = fetch_time_query(\"annual\")\n",
    "df_era5 = pd.read_sql_query(query, conn)\n",
    "df_era5"
   ]
  },
  {
   "cell_type": "code",
   "execution_count": 75,
   "metadata": {},
   "outputs": [
    {
     "data": {
      "text/html": [
       "<div>\n",
       "<style scoped>\n",
       "    .dataframe tbody tr th:only-of-type {\n",
       "        vertical-align: middle;\n",
       "    }\n",
       "\n",
       "    .dataframe tbody tr th {\n",
       "        vertical-align: top;\n",
       "    }\n",
       "\n",
       "    .dataframe thead th {\n",
       "        text-align: right;\n",
       "    }\n",
       "</style>\n",
       "<table border=\"1\" class=\"dataframe\">\n",
       "  <thead>\n",
       "    <tr style=\"text-align: right;\">\n",
       "      <th></th>\n",
       "      <th>year</th>\n",
       "      <th>month</th>\n",
       "      <th>postal_code</th>\n",
       "      <th>airtemperature</th>\n",
       "      <th>cdd</th>\n",
       "      <th>hdd</th>\n",
       "      <th>relativehumidity</th>\n",
       "      <th>windspeed</th>\n",
       "      <th>winddirection</th>\n",
       "      <th>ghi</th>\n",
       "      <th>dni</th>\n",
       "      <th>sunelevation</th>\n",
       "      <th>year</th>\n",
       "      <th>month</th>\n",
       "      <th>postalcode</th>\n",
       "      <th>consumption</th>\n",
       "      <th>contracts</th>\n",
       "    </tr>\n",
       "  </thead>\n",
       "  <tbody>\n",
       "    <tr>\n",
       "      <th>30</th>\n",
       "      <td>2023</td>\n",
       "      <td>01</td>\n",
       "      <td>08031</td>\n",
       "      <td>-2.870546</td>\n",
       "      <td>0.000000</td>\n",
       "      <td>15527.685934</td>\n",
       "      <td>75.153293</td>\n",
       "      <td>1.314287</td>\n",
       "      <td>178.138431</td>\n",
       "      <td>94.402501</td>\n",
       "      <td>165.068912</td>\n",
       "      <td>-16.403843</td>\n",
       "      <td>2023</td>\n",
       "      <td>01</td>\n",
       "      <td>08031</td>\n",
       "      <td>4561145.0</td>\n",
       "      <td>22123</td>\n",
       "    </tr>\n",
       "    <tr>\n",
       "      <th>1063</th>\n",
       "      <td>2023</td>\n",
       "      <td>02</td>\n",
       "      <td>08031</td>\n",
       "      <td>0.969735</td>\n",
       "      <td>0.000000</td>\n",
       "      <td>11444.338297</td>\n",
       "      <td>62.826475</td>\n",
       "      <td>0.911372</td>\n",
       "      <td>220.929112</td>\n",
       "      <td>143.643460</td>\n",
       "      <td>230.157816</td>\n",
       "      <td>-10.206858</td>\n",
       "      <td>2023</td>\n",
       "      <td>02</td>\n",
       "      <td>08031</td>\n",
       "      <td>4057045.0</td>\n",
       "      <td>22075</td>\n",
       "    </tr>\n",
       "    <tr>\n",
       "      <th>2102</th>\n",
       "      <td>2023</td>\n",
       "      <td>03</td>\n",
       "      <td>08031</td>\n",
       "      <td>11.309702</td>\n",
       "      <td>158.407258</td>\n",
       "      <td>5129.298337</td>\n",
       "      <td>63.934851</td>\n",
       "      <td>1.856369</td>\n",
       "      <td>234.011470</td>\n",
       "      <td>193.047854</td>\n",
       "      <td>227.933405</td>\n",
       "      <td>-1.363303</td>\n",
       "      <td>2023</td>\n",
       "      <td>03</td>\n",
       "      <td>08031</td>\n",
       "      <td>3218835.0</td>\n",
       "      <td>20059</td>\n",
       "    </tr>\n",
       "    <tr>\n",
       "      <th>3158</th>\n",
       "      <td>2023</td>\n",
       "      <td>04</td>\n",
       "      <td>08031</td>\n",
       "      <td>10.977544</td>\n",
       "      <td>94.209995</td>\n",
       "      <td>5150.377964</td>\n",
       "      <td>65.660669</td>\n",
       "      <td>1.092750</td>\n",
       "      <td>239.491522</td>\n",
       "      <td>236.290452</td>\n",
       "      <td>209.948645</td>\n",
       "      <td>7.861265</td>\n",
       "      <td>2023</td>\n",
       "      <td>04</td>\n",
       "      <td>08031</td>\n",
       "      <td>2627885.0</td>\n",
       "      <td>20052</td>\n",
       "    </tr>\n",
       "    <tr>\n",
       "      <th>4206</th>\n",
       "      <td>2023</td>\n",
       "      <td>05</td>\n",
       "      <td>08031</td>\n",
       "      <td>14.709253</td>\n",
       "      <td>460.472905</td>\n",
       "      <td>2908.788947</td>\n",
       "      <td>62.090648</td>\n",
       "      <td>1.287706</td>\n",
       "      <td>161.153273</td>\n",
       "      <td>260.076201</td>\n",
       "      <td>200.984366</td>\n",
       "      <td>15.009873</td>\n",
       "      <td>2023</td>\n",
       "      <td>05</td>\n",
       "      <td>08031</td>\n",
       "      <td>3329187.0</td>\n",
       "      <td>23832</td>\n",
       "    </tr>\n",
       "    <tr>\n",
       "      <th>5263</th>\n",
       "      <td>2023</td>\n",
       "      <td>06</td>\n",
       "      <td>08031</td>\n",
       "      <td>21.935979</td>\n",
       "      <td>3202.274334</td>\n",
       "      <td>368.369295</td>\n",
       "      <td>65.425246</td>\n",
       "      <td>1.358356</td>\n",
       "      <td>161.343804</td>\n",
       "      <td>268.804299</td>\n",
       "      <td>176.370526</td>\n",
       "      <td>18.253748</td>\n",
       "      <td>2023</td>\n",
       "      <td>06</td>\n",
       "      <td>08031</td>\n",
       "      <td>3382105.0</td>\n",
       "      <td>21942</td>\n",
       "    </tr>\n",
       "    <tr>\n",
       "      <th>6320</th>\n",
       "      <td>2023</td>\n",
       "      <td>07</td>\n",
       "      <td>08031</td>\n",
       "      <td>24.581639</td>\n",
       "      <td>4951.930705</td>\n",
       "      <td>55.191385</td>\n",
       "      <td>64.513119</td>\n",
       "      <td>1.761779</td>\n",
       "      <td>194.133594</td>\n",
       "      <td>291.062240</td>\n",
       "      <td>220.414442</td>\n",
       "      <td>16.764472</td>\n",
       "      <td>2023</td>\n",
       "      <td>07</td>\n",
       "      <td>08031</td>\n",
       "      <td>3767520.0</td>\n",
       "      <td>20085</td>\n",
       "    </tr>\n",
       "    <tr>\n",
       "      <th>7378</th>\n",
       "      <td>2023</td>\n",
       "      <td>08</td>\n",
       "      <td>08031</td>\n",
       "      <td>22.240853</td>\n",
       "      <td>3601.939577</td>\n",
       "      <td>446.745239</td>\n",
       "      <td>65.298405</td>\n",
       "      <td>1.089683</td>\n",
       "      <td>198.580608</td>\n",
       "      <td>251.696646</td>\n",
       "      <td>218.726478</td>\n",
       "      <td>10.878452</td>\n",
       "      <td>2023</td>\n",
       "      <td>08</td>\n",
       "      <td>08031</td>\n",
       "      <td>3639832.0</td>\n",
       "      <td>20905</td>\n",
       "    </tr>\n",
       "    <tr>\n",
       "      <th>8435</th>\n",
       "      <td>2023</td>\n",
       "      <td>09</td>\n",
       "      <td>08031</td>\n",
       "      <td>21.858803</td>\n",
       "      <td>3045.341878</td>\n",
       "      <td>267.003917</td>\n",
       "      <td>64.362784</td>\n",
       "      <td>1.947760</td>\n",
       "      <td>150.181170</td>\n",
       "      <td>207.304006</td>\n",
       "      <td>230.435673</td>\n",
       "      <td>2.261496</td>\n",
       "      <td>2023</td>\n",
       "      <td>09</td>\n",
       "      <td>08031</td>\n",
       "      <td>2860642.0</td>\n",
       "      <td>19538</td>\n",
       "    </tr>\n",
       "    <tr>\n",
       "      <th>9492</th>\n",
       "      <td>2023</td>\n",
       "      <td>10</td>\n",
       "      <td>08031</td>\n",
       "      <td>13.369253</td>\n",
       "      <td>446.170112</td>\n",
       "      <td>3896.076870</td>\n",
       "      <td>76.249625</td>\n",
       "      <td>1.153563</td>\n",
       "      <td>193.495638</td>\n",
       "      <td>137.705593</td>\n",
       "      <td>158.903194</td>\n",
       "      <td>-7.114987</td>\n",
       "      <td>2023</td>\n",
       "      <td>10</td>\n",
       "      <td>08031</td>\n",
       "      <td>2748045.0</td>\n",
       "      <td>18762</td>\n",
       "    </tr>\n",
       "    <tr>\n",
       "      <th>10547</th>\n",
       "      <td>2023</td>\n",
       "      <td>11</td>\n",
       "      <td>08031</td>\n",
       "      <td>4.420278</td>\n",
       "      <td>0.000000</td>\n",
       "      <td>9777.399570</td>\n",
       "      <td>77.827928</td>\n",
       "      <td>1.363764</td>\n",
       "      <td>277.248072</td>\n",
       "      <td>97.276448</td>\n",
       "      <td>138.599634</td>\n",
       "      <td>-14.638496</td>\n",
       "      <td>2023</td>\n",
       "      <td>11</td>\n",
       "      <td>08031</td>\n",
       "      <td>3095214.0</td>\n",
       "      <td>20096</td>\n",
       "    </tr>\n",
       "    <tr>\n",
       "      <th>11606</th>\n",
       "      <td>2023</td>\n",
       "      <td>12</td>\n",
       "      <td>08031</td>\n",
       "      <td>7.100316</td>\n",
       "      <td>0.000000</td>\n",
       "      <td>8109.364885</td>\n",
       "      <td>72.089440</td>\n",
       "      <td>1.537881</td>\n",
       "      <td>285.849443</td>\n",
       "      <td>79.286781</td>\n",
       "      <td>144.705251</td>\n",
       "      <td>-18.185037</td>\n",
       "      <td>2023</td>\n",
       "      <td>12</td>\n",
       "      <td>08031</td>\n",
       "      <td>3904505.0</td>\n",
       "      <td>20104</td>\n",
       "    </tr>\n",
       "  </tbody>\n",
       "</table>\n",
       "</div>"
      ],
      "text/plain": [
       "       year month postal_code  airtemperature          cdd           hdd  \\\n",
       "30     2023    01       08031       -2.870546     0.000000  15527.685934   \n",
       "1063   2023    02       08031        0.969735     0.000000  11444.338297   \n",
       "2102   2023    03       08031       11.309702   158.407258   5129.298337   \n",
       "3158   2023    04       08031       10.977544    94.209995   5150.377964   \n",
       "4206   2023    05       08031       14.709253   460.472905   2908.788947   \n",
       "5263   2023    06       08031       21.935979  3202.274334    368.369295   \n",
       "6320   2023    07       08031       24.581639  4951.930705     55.191385   \n",
       "7378   2023    08       08031       22.240853  3601.939577    446.745239   \n",
       "8435   2023    09       08031       21.858803  3045.341878    267.003917   \n",
       "9492   2023    10       08031       13.369253   446.170112   3896.076870   \n",
       "10547  2023    11       08031        4.420278     0.000000   9777.399570   \n",
       "11606  2023    12       08031        7.100316     0.000000   8109.364885   \n",
       "\n",
       "       relativehumidity  windspeed  winddirection         ghi         dni  \\\n",
       "30            75.153293   1.314287     178.138431   94.402501  165.068912   \n",
       "1063          62.826475   0.911372     220.929112  143.643460  230.157816   \n",
       "2102          63.934851   1.856369     234.011470  193.047854  227.933405   \n",
       "3158          65.660669   1.092750     239.491522  236.290452  209.948645   \n",
       "4206          62.090648   1.287706     161.153273  260.076201  200.984366   \n",
       "5263          65.425246   1.358356     161.343804  268.804299  176.370526   \n",
       "6320          64.513119   1.761779     194.133594  291.062240  220.414442   \n",
       "7378          65.298405   1.089683     198.580608  251.696646  218.726478   \n",
       "8435          64.362784   1.947760     150.181170  207.304006  230.435673   \n",
       "9492          76.249625   1.153563     193.495638  137.705593  158.903194   \n",
       "10547         77.827928   1.363764     277.248072   97.276448  138.599634   \n",
       "11606         72.089440   1.537881     285.849443   79.286781  144.705251   \n",
       "\n",
       "       sunelevation  year month postalcode  consumption  contracts  \n",
       "30       -16.403843  2023    01      08031    4561145.0      22123  \n",
       "1063     -10.206858  2023    02      08031    4057045.0      22075  \n",
       "2102      -1.363303  2023    03      08031    3218835.0      20059  \n",
       "3158       7.861265  2023    04      08031    2627885.0      20052  \n",
       "4206      15.009873  2023    05      08031    3329187.0      23832  \n",
       "5263      18.253748  2023    06      08031    3382105.0      21942  \n",
       "6320      16.764472  2023    07      08031    3767520.0      20085  \n",
       "7378      10.878452  2023    08      08031    3639832.0      20905  \n",
       "8435       2.261496  2023    09      08031    2860642.0      19538  \n",
       "9492      -7.114987  2023    10      08031    2748045.0      18762  \n",
       "10547    -14.638496  2023    11      08031    3095214.0      20096  \n",
       "11606    -18.185037  2023    12      08031    3904505.0      20104  "
      ]
     },
     "execution_count": 75,
     "metadata": {},
     "output_type": "execute_result"
    }
   ],
   "source": [
    "df = df_era5[df_era5['postal_code'] == '08031']\n",
    "df"
   ]
  },
  {
   "cell_type": "code",
   "execution_count": 76,
   "metadata": {},
   "outputs": [],
   "source": [
    "months = df['month'].iloc[:,0].values\n",
    "temperature = df['airtemperature'].values\n",
    "consumption = df['consumption'].values"
   ]
  },
  {
   "cell_type": "code",
   "execution_count": 56,
   "metadata": {},
   "outputs": [],
   "source": [
    "consumption = [160632., 147501., 113761.,  92067.,  95051., 103468., 136871.,\n",
    "       139943.,  99275.,  98302., 109159., 147070.]"
   ]
  },
  {
   "cell_type": "code",
   "execution_count": 74,
   "metadata": {},
   "outputs": [
    {
     "data": {
      "text/plain": [
       "np.float64(2.272420038025046)"
      ]
     },
     "execution_count": 74,
     "metadata": {},
     "output_type": "execute_result"
    }
   ],
   "source": [
    "min(temperature)-0.1*min(temperature)"
   ]
  },
  {
   "cell_type": "code",
   "execution_count": 77,
   "metadata": {},
   "outputs": [
    {
     "data": {
      "application/vnd.plotly.v1+json": {
       "config": {
        "plotlyServerURL": "https://plot.ly"
       },
       "data": [
        {
         "marker": {
          "color": "paleturquoise"
         },
         "name": "Air temperature",
         "type": "bar",
         "x": [
          "01",
          "02",
          "03",
          "04",
          "05",
          "06",
          "07",
          "08",
          "09",
          "10",
          "11",
          "12"
         ],
         "y": [
          -2.8705456104928735,
          0.9697346770780029,
          11.309702450783753,
          10.977544486997727,
          14.709252631161677,
          21.935979220289433,
          24.581638870894018,
          22.240852604445433,
          21.858802723832376,
          13.369252673681565,
          4.4202783750955925,
          7.100316014583058
         ]
        },
        {
         "marker": {
          "color": "crimson"
         },
         "name": "Consumption",
         "type": "scatter",
         "x": [
          "01",
          "02",
          "03",
          "04",
          "05",
          "06",
          "07",
          "08",
          "09",
          "10",
          "11",
          "12"
         ],
         "y": [
          4561145,
          4057045,
          3218835,
          2627885,
          3329187,
          3382105,
          3767520,
          3639832,
          2860642,
          2748045,
          3095214,
          3904505
         ],
         "yaxis": "y2"
        }
       ],
       "layout": {
        "legend": {
         "orientation": "h"
        },
        "template": {
         "data": {
          "bar": [
           {
            "error_x": {
             "color": "#2a3f5f"
            },
            "error_y": {
             "color": "#2a3f5f"
            },
            "marker": {
             "line": {
              "color": "#E5ECF6",
              "width": 0.5
             },
             "pattern": {
              "fillmode": "overlay",
              "size": 10,
              "solidity": 0.2
             }
            },
            "type": "bar"
           }
          ],
          "barpolar": [
           {
            "marker": {
             "line": {
              "color": "#E5ECF6",
              "width": 0.5
             },
             "pattern": {
              "fillmode": "overlay",
              "size": 10,
              "solidity": 0.2
             }
            },
            "type": "barpolar"
           }
          ],
          "carpet": [
           {
            "aaxis": {
             "endlinecolor": "#2a3f5f",
             "gridcolor": "white",
             "linecolor": "white",
             "minorgridcolor": "white",
             "startlinecolor": "#2a3f5f"
            },
            "baxis": {
             "endlinecolor": "#2a3f5f",
             "gridcolor": "white",
             "linecolor": "white",
             "minorgridcolor": "white",
             "startlinecolor": "#2a3f5f"
            },
            "type": "carpet"
           }
          ],
          "choropleth": [
           {
            "colorbar": {
             "outlinewidth": 0,
             "ticks": ""
            },
            "type": "choropleth"
           }
          ],
          "contour": [
           {
            "colorbar": {
             "outlinewidth": 0,
             "ticks": ""
            },
            "colorscale": [
             [
              0,
              "#0d0887"
             ],
             [
              0.1111111111111111,
              "#46039f"
             ],
             [
              0.2222222222222222,
              "#7201a8"
             ],
             [
              0.3333333333333333,
              "#9c179e"
             ],
             [
              0.4444444444444444,
              "#bd3786"
             ],
             [
              0.5555555555555556,
              "#d8576b"
             ],
             [
              0.6666666666666666,
              "#ed7953"
             ],
             [
              0.7777777777777778,
              "#fb9f3a"
             ],
             [
              0.8888888888888888,
              "#fdca26"
             ],
             [
              1,
              "#f0f921"
             ]
            ],
            "type": "contour"
           }
          ],
          "contourcarpet": [
           {
            "colorbar": {
             "outlinewidth": 0,
             "ticks": ""
            },
            "type": "contourcarpet"
           }
          ],
          "heatmap": [
           {
            "colorbar": {
             "outlinewidth": 0,
             "ticks": ""
            },
            "colorscale": [
             [
              0,
              "#0d0887"
             ],
             [
              0.1111111111111111,
              "#46039f"
             ],
             [
              0.2222222222222222,
              "#7201a8"
             ],
             [
              0.3333333333333333,
              "#9c179e"
             ],
             [
              0.4444444444444444,
              "#bd3786"
             ],
             [
              0.5555555555555556,
              "#d8576b"
             ],
             [
              0.6666666666666666,
              "#ed7953"
             ],
             [
              0.7777777777777778,
              "#fb9f3a"
             ],
             [
              0.8888888888888888,
              "#fdca26"
             ],
             [
              1,
              "#f0f921"
             ]
            ],
            "type": "heatmap"
           }
          ],
          "heatmapgl": [
           {
            "colorbar": {
             "outlinewidth": 0,
             "ticks": ""
            },
            "colorscale": [
             [
              0,
              "#0d0887"
             ],
             [
              0.1111111111111111,
              "#46039f"
             ],
             [
              0.2222222222222222,
              "#7201a8"
             ],
             [
              0.3333333333333333,
              "#9c179e"
             ],
             [
              0.4444444444444444,
              "#bd3786"
             ],
             [
              0.5555555555555556,
              "#d8576b"
             ],
             [
              0.6666666666666666,
              "#ed7953"
             ],
             [
              0.7777777777777778,
              "#fb9f3a"
             ],
             [
              0.8888888888888888,
              "#fdca26"
             ],
             [
              1,
              "#f0f921"
             ]
            ],
            "type": "heatmapgl"
           }
          ],
          "histogram": [
           {
            "marker": {
             "pattern": {
              "fillmode": "overlay",
              "size": 10,
              "solidity": 0.2
             }
            },
            "type": "histogram"
           }
          ],
          "histogram2d": [
           {
            "colorbar": {
             "outlinewidth": 0,
             "ticks": ""
            },
            "colorscale": [
             [
              0,
              "#0d0887"
             ],
             [
              0.1111111111111111,
              "#46039f"
             ],
             [
              0.2222222222222222,
              "#7201a8"
             ],
             [
              0.3333333333333333,
              "#9c179e"
             ],
             [
              0.4444444444444444,
              "#bd3786"
             ],
             [
              0.5555555555555556,
              "#d8576b"
             ],
             [
              0.6666666666666666,
              "#ed7953"
             ],
             [
              0.7777777777777778,
              "#fb9f3a"
             ],
             [
              0.8888888888888888,
              "#fdca26"
             ],
             [
              1,
              "#f0f921"
             ]
            ],
            "type": "histogram2d"
           }
          ],
          "histogram2dcontour": [
           {
            "colorbar": {
             "outlinewidth": 0,
             "ticks": ""
            },
            "colorscale": [
             [
              0,
              "#0d0887"
             ],
             [
              0.1111111111111111,
              "#46039f"
             ],
             [
              0.2222222222222222,
              "#7201a8"
             ],
             [
              0.3333333333333333,
              "#9c179e"
             ],
             [
              0.4444444444444444,
              "#bd3786"
             ],
             [
              0.5555555555555556,
              "#d8576b"
             ],
             [
              0.6666666666666666,
              "#ed7953"
             ],
             [
              0.7777777777777778,
              "#fb9f3a"
             ],
             [
              0.8888888888888888,
              "#fdca26"
             ],
             [
              1,
              "#f0f921"
             ]
            ],
            "type": "histogram2dcontour"
           }
          ],
          "mesh3d": [
           {
            "colorbar": {
             "outlinewidth": 0,
             "ticks": ""
            },
            "type": "mesh3d"
           }
          ],
          "parcoords": [
           {
            "line": {
             "colorbar": {
              "outlinewidth": 0,
              "ticks": ""
             }
            },
            "type": "parcoords"
           }
          ],
          "pie": [
           {
            "automargin": true,
            "type": "pie"
           }
          ],
          "scatter": [
           {
            "fillpattern": {
             "fillmode": "overlay",
             "size": 10,
             "solidity": 0.2
            },
            "type": "scatter"
           }
          ],
          "scatter3d": [
           {
            "line": {
             "colorbar": {
              "outlinewidth": 0,
              "ticks": ""
             }
            },
            "marker": {
             "colorbar": {
              "outlinewidth": 0,
              "ticks": ""
             }
            },
            "type": "scatter3d"
           }
          ],
          "scattercarpet": [
           {
            "marker": {
             "colorbar": {
              "outlinewidth": 0,
              "ticks": ""
             }
            },
            "type": "scattercarpet"
           }
          ],
          "scattergeo": [
           {
            "marker": {
             "colorbar": {
              "outlinewidth": 0,
              "ticks": ""
             }
            },
            "type": "scattergeo"
           }
          ],
          "scattergl": [
           {
            "marker": {
             "colorbar": {
              "outlinewidth": 0,
              "ticks": ""
             }
            },
            "type": "scattergl"
           }
          ],
          "scattermapbox": [
           {
            "marker": {
             "colorbar": {
              "outlinewidth": 0,
              "ticks": ""
             }
            },
            "type": "scattermapbox"
           }
          ],
          "scatterpolar": [
           {
            "marker": {
             "colorbar": {
              "outlinewidth": 0,
              "ticks": ""
             }
            },
            "type": "scatterpolar"
           }
          ],
          "scatterpolargl": [
           {
            "marker": {
             "colorbar": {
              "outlinewidth": 0,
              "ticks": ""
             }
            },
            "type": "scatterpolargl"
           }
          ],
          "scatterternary": [
           {
            "marker": {
             "colorbar": {
              "outlinewidth": 0,
              "ticks": ""
             }
            },
            "type": "scatterternary"
           }
          ],
          "surface": [
           {
            "colorbar": {
             "outlinewidth": 0,
             "ticks": ""
            },
            "colorscale": [
             [
              0,
              "#0d0887"
             ],
             [
              0.1111111111111111,
              "#46039f"
             ],
             [
              0.2222222222222222,
              "#7201a8"
             ],
             [
              0.3333333333333333,
              "#9c179e"
             ],
             [
              0.4444444444444444,
              "#bd3786"
             ],
             [
              0.5555555555555556,
              "#d8576b"
             ],
             [
              0.6666666666666666,
              "#ed7953"
             ],
             [
              0.7777777777777778,
              "#fb9f3a"
             ],
             [
              0.8888888888888888,
              "#fdca26"
             ],
             [
              1,
              "#f0f921"
             ]
            ],
            "type": "surface"
           }
          ],
          "table": [
           {
            "cells": {
             "fill": {
              "color": "#EBF0F8"
             },
             "line": {
              "color": "white"
             }
            },
            "header": {
             "fill": {
              "color": "#C8D4E3"
             },
             "line": {
              "color": "white"
             }
            },
            "type": "table"
           }
          ]
         },
         "layout": {
          "annotationdefaults": {
           "arrowcolor": "#2a3f5f",
           "arrowhead": 0,
           "arrowwidth": 1
          },
          "autotypenumbers": "strict",
          "coloraxis": {
           "colorbar": {
            "outlinewidth": 0,
            "ticks": ""
           }
          },
          "colorscale": {
           "diverging": [
            [
             0,
             "#8e0152"
            ],
            [
             0.1,
             "#c51b7d"
            ],
            [
             0.2,
             "#de77ae"
            ],
            [
             0.3,
             "#f1b6da"
            ],
            [
             0.4,
             "#fde0ef"
            ],
            [
             0.5,
             "#f7f7f7"
            ],
            [
             0.6,
             "#e6f5d0"
            ],
            [
             0.7,
             "#b8e186"
            ],
            [
             0.8,
             "#7fbc41"
            ],
            [
             0.9,
             "#4d9221"
            ],
            [
             1,
             "#276419"
            ]
           ],
           "sequential": [
            [
             0,
             "#0d0887"
            ],
            [
             0.1111111111111111,
             "#46039f"
            ],
            [
             0.2222222222222222,
             "#7201a8"
            ],
            [
             0.3333333333333333,
             "#9c179e"
            ],
            [
             0.4444444444444444,
             "#bd3786"
            ],
            [
             0.5555555555555556,
             "#d8576b"
            ],
            [
             0.6666666666666666,
             "#ed7953"
            ],
            [
             0.7777777777777778,
             "#fb9f3a"
            ],
            [
             0.8888888888888888,
             "#fdca26"
            ],
            [
             1,
             "#f0f921"
            ]
           ],
           "sequentialminus": [
            [
             0,
             "#0d0887"
            ],
            [
             0.1111111111111111,
             "#46039f"
            ],
            [
             0.2222222222222222,
             "#7201a8"
            ],
            [
             0.3333333333333333,
             "#9c179e"
            ],
            [
             0.4444444444444444,
             "#bd3786"
            ],
            [
             0.5555555555555556,
             "#d8576b"
            ],
            [
             0.6666666666666666,
             "#ed7953"
            ],
            [
             0.7777777777777778,
             "#fb9f3a"
            ],
            [
             0.8888888888888888,
             "#fdca26"
            ],
            [
             1,
             "#f0f921"
            ]
           ]
          },
          "colorway": [
           "#636efa",
           "#EF553B",
           "#00cc96",
           "#ab63fa",
           "#FFA15A",
           "#19d3f3",
           "#FF6692",
           "#B6E880",
           "#FF97FF",
           "#FECB52"
          ],
          "font": {
           "color": "#2a3f5f"
          },
          "geo": {
           "bgcolor": "white",
           "lakecolor": "white",
           "landcolor": "#E5ECF6",
           "showlakes": true,
           "showland": true,
           "subunitcolor": "white"
          },
          "hoverlabel": {
           "align": "left"
          },
          "hovermode": "closest",
          "mapbox": {
           "style": "light"
          },
          "paper_bgcolor": "white",
          "plot_bgcolor": "#E5ECF6",
          "polar": {
           "angularaxis": {
            "gridcolor": "white",
            "linecolor": "white",
            "ticks": ""
           },
           "bgcolor": "#E5ECF6",
           "radialaxis": {
            "gridcolor": "white",
            "linecolor": "white",
            "ticks": ""
           }
          },
          "scene": {
           "xaxis": {
            "backgroundcolor": "#E5ECF6",
            "gridcolor": "white",
            "gridwidth": 2,
            "linecolor": "white",
            "showbackground": true,
            "ticks": "",
            "zerolinecolor": "white"
           },
           "yaxis": {
            "backgroundcolor": "#E5ECF6",
            "gridcolor": "white",
            "gridwidth": 2,
            "linecolor": "white",
            "showbackground": true,
            "ticks": "",
            "zerolinecolor": "white"
           },
           "zaxis": {
            "backgroundcolor": "#E5ECF6",
            "gridcolor": "white",
            "gridwidth": 2,
            "linecolor": "white",
            "showbackground": true,
            "ticks": "",
            "zerolinecolor": "white"
           }
          },
          "shapedefaults": {
           "line": {
            "color": "#2a3f5f"
           }
          },
          "ternary": {
           "aaxis": {
            "gridcolor": "white",
            "linecolor": "white",
            "ticks": ""
           },
           "baxis": {
            "gridcolor": "white",
            "linecolor": "white",
            "ticks": ""
           },
           "bgcolor": "#E5ECF6",
           "caxis": {
            "gridcolor": "white",
            "linecolor": "white",
            "ticks": ""
           }
          },
          "title": {
           "x": 0.05
          },
          "xaxis": {
           "automargin": true,
           "gridcolor": "white",
           "linecolor": "white",
           "ticks": "",
           "title": {
            "standoff": 15
           },
           "zerolinecolor": "white",
           "zerolinewidth": 2
          },
          "yaxis": {
           "automargin": true,
           "gridcolor": "white",
           "linecolor": "white",
           "ticks": "",
           "title": {
            "standoff": 15
           },
           "zerolinecolor": "white",
           "zerolinewidth": 2
          }
         }
        },
        "yaxis": {
         "range": [
          0,
          27.205693815532594
         ],
         "side": "left",
         "title": {
          "text": "Air temperature"
         }
        },
        "yaxis2": {
         "overlaying": "y",
         "range": [
          82860.3,
          176695.2
         ],
         "side": "right",
         "tickmode": "sync",
         "title": {
          "text": "Consumption"
         }
        }
       }
      },
      "text/html": [
       "<div>                            <div id=\"6a79c9db-40b5-40ac-8f15-927408c46c5c\" class=\"plotly-graph-div\" style=\"height:525px; width:100%;\"></div>            <script type=\"text/javascript\">                require([\"plotly\"], function(Plotly) {                    window.PLOTLYENV=window.PLOTLYENV || {};                                    if (document.getElementById(\"6a79c9db-40b5-40ac-8f15-927408c46c5c\")) {                    Plotly.newPlot(                        \"6a79c9db-40b5-40ac-8f15-927408c46c5c\",                        [{\"marker\":{\"color\":\"paleturquoise\"},\"name\":\"Air temperature\",\"x\":[\"01\",\"02\",\"03\",\"04\",\"05\",\"06\",\"07\",\"08\",\"09\",\"10\",\"11\",\"12\"],\"y\":[-2.8705456104928735,0.9697346770780029,11.309702450783753,10.977544486997727,14.709252631161677,21.935979220289433,24.581638870894018,22.240852604445433,21.858802723832376,13.369252673681565,4.4202783750955925,7.100316014583058],\"type\":\"bar\"},{\"marker\":{\"color\":\"crimson\"},\"name\":\"Consumption\",\"x\":[\"01\",\"02\",\"03\",\"04\",\"05\",\"06\",\"07\",\"08\",\"09\",\"10\",\"11\",\"12\"],\"y\":[4561145.0,4057045.0,3218835.0,2627885.0,3329187.0,3382105.0,3767520.0,3639832.0,2860642.0,2748045.0,3095214.0,3904505.0],\"yaxis\":\"y2\",\"type\":\"scatter\"}],                        {\"template\":{\"data\":{\"histogram2dcontour\":[{\"type\":\"histogram2dcontour\",\"colorbar\":{\"outlinewidth\":0,\"ticks\":\"\"},\"colorscale\":[[0.0,\"#0d0887\"],[0.1111111111111111,\"#46039f\"],[0.2222222222222222,\"#7201a8\"],[0.3333333333333333,\"#9c179e\"],[0.4444444444444444,\"#bd3786\"],[0.5555555555555556,\"#d8576b\"],[0.6666666666666666,\"#ed7953\"],[0.7777777777777778,\"#fb9f3a\"],[0.8888888888888888,\"#fdca26\"],[1.0,\"#f0f921\"]]}],\"choropleth\":[{\"type\":\"choropleth\",\"colorbar\":{\"outlinewidth\":0,\"ticks\":\"\"}}],\"histogram2d\":[{\"type\":\"histogram2d\",\"colorbar\":{\"outlinewidth\":0,\"ticks\":\"\"},\"colorscale\":[[0.0,\"#0d0887\"],[0.1111111111111111,\"#46039f\"],[0.2222222222222222,\"#7201a8\"],[0.3333333333333333,\"#9c179e\"],[0.4444444444444444,\"#bd3786\"],[0.5555555555555556,\"#d8576b\"],[0.6666666666666666,\"#ed7953\"],[0.7777777777777778,\"#fb9f3a\"],[0.8888888888888888,\"#fdca26\"],[1.0,\"#f0f921\"]]}],\"heatmap\":[{\"type\":\"heatmap\",\"colorbar\":{\"outlinewidth\":0,\"ticks\":\"\"},\"colorscale\":[[0.0,\"#0d0887\"],[0.1111111111111111,\"#46039f\"],[0.2222222222222222,\"#7201a8\"],[0.3333333333333333,\"#9c179e\"],[0.4444444444444444,\"#bd3786\"],[0.5555555555555556,\"#d8576b\"],[0.6666666666666666,\"#ed7953\"],[0.7777777777777778,\"#fb9f3a\"],[0.8888888888888888,\"#fdca26\"],[1.0,\"#f0f921\"]]}],\"heatmapgl\":[{\"type\":\"heatmapgl\",\"colorbar\":{\"outlinewidth\":0,\"ticks\":\"\"},\"colorscale\":[[0.0,\"#0d0887\"],[0.1111111111111111,\"#46039f\"],[0.2222222222222222,\"#7201a8\"],[0.3333333333333333,\"#9c179e\"],[0.4444444444444444,\"#bd3786\"],[0.5555555555555556,\"#d8576b\"],[0.6666666666666666,\"#ed7953\"],[0.7777777777777778,\"#fb9f3a\"],[0.8888888888888888,\"#fdca26\"],[1.0,\"#f0f921\"]]}],\"contourcarpet\":[{\"type\":\"contourcarpet\",\"colorbar\":{\"outlinewidth\":0,\"ticks\":\"\"}}],\"contour\":[{\"type\":\"contour\",\"colorbar\":{\"outlinewidth\":0,\"ticks\":\"\"},\"colorscale\":[[0.0,\"#0d0887\"],[0.1111111111111111,\"#46039f\"],[0.2222222222222222,\"#7201a8\"],[0.3333333333333333,\"#9c179e\"],[0.4444444444444444,\"#bd3786\"],[0.5555555555555556,\"#d8576b\"],[0.6666666666666666,\"#ed7953\"],[0.7777777777777778,\"#fb9f3a\"],[0.8888888888888888,\"#fdca26\"],[1.0,\"#f0f921\"]]}],\"surface\":[{\"type\":\"surface\",\"colorbar\":{\"outlinewidth\":0,\"ticks\":\"\"},\"colorscale\":[[0.0,\"#0d0887\"],[0.1111111111111111,\"#46039f\"],[0.2222222222222222,\"#7201a8\"],[0.3333333333333333,\"#9c179e\"],[0.4444444444444444,\"#bd3786\"],[0.5555555555555556,\"#d8576b\"],[0.6666666666666666,\"#ed7953\"],[0.7777777777777778,\"#fb9f3a\"],[0.8888888888888888,\"#fdca26\"],[1.0,\"#f0f921\"]]}],\"mesh3d\":[{\"type\":\"mesh3d\",\"colorbar\":{\"outlinewidth\":0,\"ticks\":\"\"}}],\"scatter\":[{\"fillpattern\":{\"fillmode\":\"overlay\",\"size\":10,\"solidity\":0.2},\"type\":\"scatter\"}],\"parcoords\":[{\"type\":\"parcoords\",\"line\":{\"colorbar\":{\"outlinewidth\":0,\"ticks\":\"\"}}}],\"scatterpolargl\":[{\"type\":\"scatterpolargl\",\"marker\":{\"colorbar\":{\"outlinewidth\":0,\"ticks\":\"\"}}}],\"bar\":[{\"error_x\":{\"color\":\"#2a3f5f\"},\"error_y\":{\"color\":\"#2a3f5f\"},\"marker\":{\"line\":{\"color\":\"#E5ECF6\",\"width\":0.5},\"pattern\":{\"fillmode\":\"overlay\",\"size\":10,\"solidity\":0.2}},\"type\":\"bar\"}],\"scattergeo\":[{\"type\":\"scattergeo\",\"marker\":{\"colorbar\":{\"outlinewidth\":0,\"ticks\":\"\"}}}],\"scatterpolar\":[{\"type\":\"scatterpolar\",\"marker\":{\"colorbar\":{\"outlinewidth\":0,\"ticks\":\"\"}}}],\"histogram\":[{\"marker\":{\"pattern\":{\"fillmode\":\"overlay\",\"size\":10,\"solidity\":0.2}},\"type\":\"histogram\"}],\"scattergl\":[{\"type\":\"scattergl\",\"marker\":{\"colorbar\":{\"outlinewidth\":0,\"ticks\":\"\"}}}],\"scatter3d\":[{\"type\":\"scatter3d\",\"line\":{\"colorbar\":{\"outlinewidth\":0,\"ticks\":\"\"}},\"marker\":{\"colorbar\":{\"outlinewidth\":0,\"ticks\":\"\"}}}],\"scattermapbox\":[{\"type\":\"scattermapbox\",\"marker\":{\"colorbar\":{\"outlinewidth\":0,\"ticks\":\"\"}}}],\"scatterternary\":[{\"type\":\"scatterternary\",\"marker\":{\"colorbar\":{\"outlinewidth\":0,\"ticks\":\"\"}}}],\"scattercarpet\":[{\"type\":\"scattercarpet\",\"marker\":{\"colorbar\":{\"outlinewidth\":0,\"ticks\":\"\"}}}],\"carpet\":[{\"aaxis\":{\"endlinecolor\":\"#2a3f5f\",\"gridcolor\":\"white\",\"linecolor\":\"white\",\"minorgridcolor\":\"white\",\"startlinecolor\":\"#2a3f5f\"},\"baxis\":{\"endlinecolor\":\"#2a3f5f\",\"gridcolor\":\"white\",\"linecolor\":\"white\",\"minorgridcolor\":\"white\",\"startlinecolor\":\"#2a3f5f\"},\"type\":\"carpet\"}],\"table\":[{\"cells\":{\"fill\":{\"color\":\"#EBF0F8\"},\"line\":{\"color\":\"white\"}},\"header\":{\"fill\":{\"color\":\"#C8D4E3\"},\"line\":{\"color\":\"white\"}},\"type\":\"table\"}],\"barpolar\":[{\"marker\":{\"line\":{\"color\":\"#E5ECF6\",\"width\":0.5},\"pattern\":{\"fillmode\":\"overlay\",\"size\":10,\"solidity\":0.2}},\"type\":\"barpolar\"}],\"pie\":[{\"automargin\":true,\"type\":\"pie\"}]},\"layout\":{\"autotypenumbers\":\"strict\",\"colorway\":[\"#636efa\",\"#EF553B\",\"#00cc96\",\"#ab63fa\",\"#FFA15A\",\"#19d3f3\",\"#FF6692\",\"#B6E880\",\"#FF97FF\",\"#FECB52\"],\"font\":{\"color\":\"#2a3f5f\"},\"hovermode\":\"closest\",\"hoverlabel\":{\"align\":\"left\"},\"paper_bgcolor\":\"white\",\"plot_bgcolor\":\"#E5ECF6\",\"polar\":{\"bgcolor\":\"#E5ECF6\",\"angularaxis\":{\"gridcolor\":\"white\",\"linecolor\":\"white\",\"ticks\":\"\"},\"radialaxis\":{\"gridcolor\":\"white\",\"linecolor\":\"white\",\"ticks\":\"\"}},\"ternary\":{\"bgcolor\":\"#E5ECF6\",\"aaxis\":{\"gridcolor\":\"white\",\"linecolor\":\"white\",\"ticks\":\"\"},\"baxis\":{\"gridcolor\":\"white\",\"linecolor\":\"white\",\"ticks\":\"\"},\"caxis\":{\"gridcolor\":\"white\",\"linecolor\":\"white\",\"ticks\":\"\"}},\"coloraxis\":{\"colorbar\":{\"outlinewidth\":0,\"ticks\":\"\"}},\"colorscale\":{\"sequential\":[[0.0,\"#0d0887\"],[0.1111111111111111,\"#46039f\"],[0.2222222222222222,\"#7201a8\"],[0.3333333333333333,\"#9c179e\"],[0.4444444444444444,\"#bd3786\"],[0.5555555555555556,\"#d8576b\"],[0.6666666666666666,\"#ed7953\"],[0.7777777777777778,\"#fb9f3a\"],[0.8888888888888888,\"#fdca26\"],[1.0,\"#f0f921\"]],\"sequentialminus\":[[0.0,\"#0d0887\"],[0.1111111111111111,\"#46039f\"],[0.2222222222222222,\"#7201a8\"],[0.3333333333333333,\"#9c179e\"],[0.4444444444444444,\"#bd3786\"],[0.5555555555555556,\"#d8576b\"],[0.6666666666666666,\"#ed7953\"],[0.7777777777777778,\"#fb9f3a\"],[0.8888888888888888,\"#fdca26\"],[1.0,\"#f0f921\"]],\"diverging\":[[0,\"#8e0152\"],[0.1,\"#c51b7d\"],[0.2,\"#de77ae\"],[0.3,\"#f1b6da\"],[0.4,\"#fde0ef\"],[0.5,\"#f7f7f7\"],[0.6,\"#e6f5d0\"],[0.7,\"#b8e186\"],[0.8,\"#7fbc41\"],[0.9,\"#4d9221\"],[1,\"#276419\"]]},\"xaxis\":{\"gridcolor\":\"white\",\"linecolor\":\"white\",\"ticks\":\"\",\"title\":{\"standoff\":15},\"zerolinecolor\":\"white\",\"automargin\":true,\"zerolinewidth\":2},\"yaxis\":{\"gridcolor\":\"white\",\"linecolor\":\"white\",\"ticks\":\"\",\"title\":{\"standoff\":15},\"zerolinecolor\":\"white\",\"automargin\":true,\"zerolinewidth\":2},\"scene\":{\"xaxis\":{\"backgroundcolor\":\"#E5ECF6\",\"gridcolor\":\"white\",\"linecolor\":\"white\",\"showbackground\":true,\"ticks\":\"\",\"zerolinecolor\":\"white\",\"gridwidth\":2},\"yaxis\":{\"backgroundcolor\":\"#E5ECF6\",\"gridcolor\":\"white\",\"linecolor\":\"white\",\"showbackground\":true,\"ticks\":\"\",\"zerolinecolor\":\"white\",\"gridwidth\":2},\"zaxis\":{\"backgroundcolor\":\"#E5ECF6\",\"gridcolor\":\"white\",\"linecolor\":\"white\",\"showbackground\":true,\"ticks\":\"\",\"zerolinecolor\":\"white\",\"gridwidth\":2}},\"shapedefaults\":{\"line\":{\"color\":\"#2a3f5f\"}},\"annotationdefaults\":{\"arrowcolor\":\"#2a3f5f\",\"arrowhead\":0,\"arrowwidth\":1},\"geo\":{\"bgcolor\":\"white\",\"landcolor\":\"#E5ECF6\",\"subunitcolor\":\"white\",\"showland\":true,\"showlakes\":true,\"lakecolor\":\"white\"},\"title\":{\"x\":0.05},\"mapbox\":{\"style\":\"light\"}}},\"legend\":{\"orientation\":\"h\"},\"yaxis\":{\"title\":{\"text\":\"Air temperature\"},\"side\":\"left\",\"range\":[0,27.205693815532594]},\"yaxis2\":{\"title\":{\"text\":\"Consumption\"},\"side\":\"right\",\"range\":[82860.3,176695.2],\"overlaying\":\"y\",\"tickmode\":\"sync\"}},                        {\"responsive\": true}                    ).then(function(){\n",
       "                            \n",
       "var gd = document.getElementById('6a79c9db-40b5-40ac-8f15-927408c46c5c');\n",
       "var x = new MutationObserver(function (mutations, observer) {{\n",
       "        var display = window.getComputedStyle(gd).display;\n",
       "        if (!display || display === 'none') {{\n",
       "            console.log([gd, 'removed!']);\n",
       "            Plotly.purge(gd);\n",
       "            observer.disconnect();\n",
       "        }}\n",
       "}});\n",
       "\n",
       "// Listen for the removal of the full notebook cells\n",
       "var notebookContainer = gd.closest('#notebook-container');\n",
       "if (notebookContainer) {{\n",
       "    x.observe(notebookContainer, {childList: true});\n",
       "}}\n",
       "\n",
       "// Listen for the clearing of the current output cell\n",
       "var outputEl = gd.closest('.output');\n",
       "if (outputEl) {{\n",
       "    x.observe(outputEl, {childList: true});\n",
       "}}\n",
       "\n",
       "                        })                };                });            </script>        </div>"
      ]
     },
     "metadata": {},
     "output_type": "display_data"
    }
   ],
   "source": [
    "import plotly.graph_objects as go\n",
    "from plotly.data import tips\n",
    "\n",
    "df = tips()\n",
    "\n",
    "fig = go.Figure(\n",
    "    data=go.Bar(\n",
    "        x=months,\n",
    "        y=temperature,\n",
    "        name=\"Air temperature\",\n",
    "        marker=dict(color=\"paleturquoise\"),\n",
    "    )\n",
    ")\n",
    "fig.add_trace(\n",
    "    go.Scatter(\n",
    "        x=months,\n",
    "        y=consumption,\n",
    "        yaxis=\"y2\",\n",
    "        name=\"Consumption\",\n",
    "        marker=dict(color=\"crimson\"),\n",
    "    )\n",
    ")\n",
    "\n",
    "fig.update_layout(\n",
    "    legend=dict(orientation=\"h\"),\n",
    "    yaxis=dict(\n",
    "        title=dict(text=\"Air temperature\"),\n",
    "        side=\"left\",\n",
    "        range=[0,27.205693815532594],\n",
    "    ),\n",
    "    yaxis2=dict(\n",
    "        title=dict(text=\"Consumption\"),\n",
    "        side=\"right\",\n",
    "        range=[82860.3, 176695.2],\n",
    "        overlaying=\"y\",\n",
    "        tickmode=\"sync\",\n",
    "    ),\n",
    ")\n",
    "\n",
    "fig.show()"
   ]
  }
 ],
 "metadata": {
  "kernelspec": {
   "display_name": "Python 3",
   "language": "python",
   "name": "python3"
  },
  "language_info": {
   "codemirror_mode": {
    "name": "ipython",
    "version": 3
   },
   "file_extension": ".py",
   "mimetype": "text/x-python",
   "name": "python",
   "nbconvert_exporter": "python",
   "pygments_lexer": "ipython3",
   "version": "3.10.12"
  }
 },
 "nbformat": 4,
 "nbformat_minor": 2
}
